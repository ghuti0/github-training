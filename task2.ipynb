{
  "nbformat": 4,
  "nbformat_minor": 0,
  "metadata": {
    "colab": {
      "provenance": []
    },
    "kernelspec": {
      "name": "python3",
      "display_name": "Python 3"
    },
    "language_info": {
      "name": "python"
    }
  },
  "cells": [
    {
      "cell_type": "markdown",
      "source": [
        "##Задачи: Списки в Python\n",
        "\n",
        "Задача 1: С клавиатуры вводится произвольный список. Необходимо вывести его в обратном порядке."
      ],
      "metadata": {
        "id": "xk253po3DvmE"
      }
    },
    {
      "cell_type": "code",
      "execution_count": null,
      "metadata": {
        "id": "Uq6CZ-JqDqDm"
      },
      "outputs": [],
      "source": []
    },
    {
      "cell_type": "markdown",
      "source": [
        "Задача 2: С клавиатуры вводится произвольный список. Необходимо поменять местами первый и последний элемент списка.\n",
        "\n",
        "Гарантированно, что в списке есть хотя бы 2 элемента."
      ],
      "metadata": {
        "id": "yazyuT2eEgP3"
      }
    },
    {
      "cell_type": "code",
      "source": [],
      "metadata": {
        "id": "Qsg3JqYpE6XF"
      },
      "execution_count": null,
      "outputs": []
    },
    {
      "cell_type": "markdown",
      "source": [
        "Задача 3: Николай задумался о поиске «бесполезного» числа на основании списка.\n",
        "Суть оного в следующем: он берет произвольный список чисел, находит самое большое из них, а затем делит его на длину списка.\n",
        "Студент пока не придумал, где может пригодиться подобное значение, но ищет у вас помощи в реализации такой функции useless(s)."
      ],
      "metadata": {
        "id": "tsZ5UncKE6tO"
      }
    },
    {
      "cell_type": "code",
      "source": [],
      "metadata": {
        "id": "8ihgfXMqFF9M"
      },
      "execution_count": null,
      "outputs": []
    },
    {
      "cell_type": "markdown",
      "source": [
        "Задача 4: На входе имеем список строк разной длины.\n",
        "Необходимо написать функцию all_eq(lst), которая вернет новый список из строк одинаковой длины.\n",
        "Длину итоговой строки определяем исходя из самой большой из них.\n",
        "Если конкретная строка короче самой длинной, дополнить ее нижними подчеркиваниями с правого края до требуемого количества символов.\n",
        "Расположение элементов начального списка не менять."
      ],
      "metadata": {
        "id": "1_I5CB7yFHSV"
      }
    },
    {
      "cell_type": "code",
      "source": [],
      "metadata": {
        "id": "xtlJVlOTFX5T"
      },
      "execution_count": null,
      "outputs": []
    },
    {
      "cell_type": "markdown",
      "source": [
        "Задача 5: Требуется создать функцию list_sort(lst), которая сортирует список чисел по убыванию их абсолютного значения."
      ],
      "metadata": {
        "id": "xWgO5hkpFYP4"
      }
    },
    {
      "cell_type": "code",
      "source": [],
      "metadata": {
        "id": "Ke2CCIuuFdQX"
      },
      "execution_count": null,
      "outputs": []
    }
  ]
}